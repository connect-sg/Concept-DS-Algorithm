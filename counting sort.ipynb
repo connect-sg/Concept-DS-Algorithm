{
 "cells": [
  {
   "cell_type": "code",
   "execution_count": 15,
   "metadata": {},
   "outputs": [
    {
     "name": "stdout",
     "output_type": "stream",
     "text": [
      "[1, 3, 6, 8, 9]\n"
     ]
    }
   ],
   "source": [
    "class Countingsort:\n",
    "    def __init__(self, data):\n",
    "        self.data =data\n",
    "        self.new_array = [0]*(max(data)-min(data)+1)\n",
    "        \n",
    "    def countingsort(self):\n",
    "        \n",
    "        for i in range(len(self.data)):\n",
    "            self.new_array[self.data[i]-min(self.data)]+=1\n",
    "        j=0\n",
    "        for i in range(min(self.data),max(self.data)+1):\n",
    "            while self.new_array[i-min(self.data)]>0:\n",
    "                self.data[j] = i\n",
    "                j+=1\n",
    "                self.new_array[i-min(self.data)]-=1\n",
    "        return data        \n",
    "               \n",
    "            \n",
    "if __name__=='__main__':\n",
    "    data = [9,3,6,1,8]\n",
    "    cs = Countingsort(data)\n",
    "    print(cs.countingsort())\n",
    "    \n",
    "            "
   ]
  },
  {
   "cell_type": "code",
   "execution_count": null,
   "metadata": {},
   "outputs": [],
   "source": []
  }
 ],
 "metadata": {
  "kernelspec": {
   "display_name": "Python 3",
   "language": "python",
   "name": "python3"
  },
  "language_info": {
   "codemirror_mode": {
    "name": "ipython",
    "version": 3
   },
   "file_extension": ".py",
   "mimetype": "text/x-python",
   "name": "python",
   "nbconvert_exporter": "python",
   "pygments_lexer": "ipython3",
   "version": "3.8.3"
  }
 },
 "nbformat": 4,
 "nbformat_minor": 4
}
