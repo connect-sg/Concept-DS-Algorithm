{
 "cells": [
  {
   "cell_type": "code",
   "execution_count": 1,
   "metadata": {},
   "outputs": [],
   "source": [
    "import time"
   ]
  },
  {
   "cell_type": "code",
   "execution_count": 7,
   "metadata": {},
   "outputs": [
    {
     "name": "stdout",
     "output_type": "stream",
     "text": [
      "values added to the linked list\n",
      "406.1716628074646\n"
     ]
    }
   ],
   "source": [
    "#Node class for each node in the linked list\n",
    "class Node: \n",
    "# data will be passed to the linked list using Node class    \n",
    "    def __init__(self, data):\n",
    "        self.data =data\n",
    "        self.next = None\n",
    "\n",
    "        \n",
    "#LinkedList class    \n",
    "\n",
    "class LinkedList():\n",
    "    def __init__(self):\n",
    "        self.head = None\n",
    "#insert a data at the start of the linked list    \n",
    "    def insertAtStart(self,data):\n",
    "# nextdata is the data node that will be inserted  in linked list        \n",
    "         nextdata = Node(data)\n",
    "# if head is None then it should be equal to the value inserted     \n",
    "         if self.head is None:        \n",
    "            self.head = nextdata\n",
    "#else             \n",
    "         else:\n",
    "#current head node will be assigned as next value for nextdata node as nextdata is to be inserted at start        \n",
    "            nextdata.next = self.head    \n",
    "            self.head = nextdata\n",
    "#insert at end    \n",
    "    def insertAtEnd(self,data):\n",
    "         nextdata = Node(data)\n",
    "         actualNode= self.head   \n",
    "         if self.head is None:\n",
    "            self.head = nextdata\n",
    "         else:\n",
    "            while actualNode.next is not None:\n",
    "                actualNode = actualNode.next\n",
    "            actualNode.next = nextdata \n",
    "            \n",
    "    def traverse(self):\n",
    "        printval = self.head\n",
    "        while printval is not None:\n",
    "            print(printval.data)\n",
    "            printval = printval.next\n",
    "            \n",
    "if __name__=='__main__':\n",
    "    \n",
    "    ll= LinkedList()\n",
    "    now = time.time()\n",
    "    for i in range (100000):\n",
    "        ll.insertAtEnd(i)\n",
    "    print('values added to the linked list')\n",
    "    print(time.time()-now)"
   ]
  },
  {
   "cell_type": "code",
   "execution_count": 8,
   "metadata": {},
   "outputs": [
    {
     "name": "stdout",
     "output_type": "stream",
     "text": [
      "0.012621641159057617\n"
     ]
    }
   ],
   "source": [
    "array = []\n",
    "\n",
    "now = time.time()\n",
    "\n",
    "for i in range(100000):\n",
    "    array.append(i)\n",
    "print(time.time()-now)"
   ]
  },
  {
   "cell_type": "code",
   "execution_count": null,
   "metadata": {},
   "outputs": [],
   "source": []
  }
 ],
 "metadata": {
  "kernelspec": {
   "display_name": "Python 3",
   "language": "python",
   "name": "python3"
  },
  "language_info": {
   "codemirror_mode": {
    "name": "ipython",
    "version": 3
   },
   "file_extension": ".py",
   "mimetype": "text/x-python",
   "name": "python",
   "nbconvert_exporter": "python",
   "pygments_lexer": "ipython3",
   "version": "3.8.3"
  }
 },
 "nbformat": 4,
 "nbformat_minor": 4
}
