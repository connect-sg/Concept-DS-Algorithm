{
 "cells": [
  {
   "cell_type": "code",
   "execution_count": 22,
   "metadata": {},
   "outputs": [
    {
     "name": "stdout",
     "output_type": "stream",
     "text": [
      "[10]\n",
      "[8]\n",
      "in while loop\n",
      "[8, 8]\n",
      "[-1]\n",
      "[8, 10]\n",
      "in while loop\n",
      "[-1, 10, 8]\n"
     ]
    },
    {
     "ename": "IndexError",
     "evalue": "list assignment index out of range",
     "output_type": "error",
     "traceback": [
      "\u001b[0;31m---------------------------------------------------------------------------\u001b[0m",
      "\u001b[0;31mIndexError\u001b[0m                                Traceback (most recent call last)",
      "\u001b[0;32m<ipython-input-22-73fca038edcf>\u001b[0m in \u001b[0;36m<module>\u001b[0;34m\u001b[0m\n\u001b[1;32m     52\u001b[0m     \u001b[0mdata1\u001b[0m \u001b[0;34m=\u001b[0m \u001b[0;34m[\u001b[0m\u001b[0;34m-\u001b[0m\u001b[0;36m1\u001b[0m\u001b[0;34m,\u001b[0m\u001b[0;36m10\u001b[0m\u001b[0;34m,\u001b[0m\u001b[0;36m8\u001b[0m\u001b[0;34m,\u001b[0m\u001b[0;36m3\u001b[0m\u001b[0;34m,\u001b[0m\u001b[0;36m4\u001b[0m\u001b[0;34m,\u001b[0m\u001b[0;36m9\u001b[0m\u001b[0;34m]\u001b[0m\u001b[0;34m\u001b[0m\u001b[0;34m\u001b[0m\u001b[0m\n\u001b[1;32m     53\u001b[0m     \u001b[0mms\u001b[0m \u001b[0;34m=\u001b[0m \u001b[0mMergesort\u001b[0m\u001b[0;34m(\u001b[0m\u001b[0;34m)\u001b[0m\u001b[0;34m\u001b[0m\u001b[0;34m\u001b[0m\u001b[0m\n\u001b[0;32m---> 54\u001b[0;31m     \u001b[0mms\u001b[0m\u001b[0;34m.\u001b[0m\u001b[0mdividemerge\u001b[0m\u001b[0;34m(\u001b[0m\u001b[0mdata1\u001b[0m\u001b[0;34m)\u001b[0m\u001b[0;34m\u001b[0m\u001b[0;34m\u001b[0m\u001b[0m\n\u001b[0m\u001b[1;32m     55\u001b[0m \u001b[0;34m\u001b[0m\u001b[0m\n",
      "\u001b[0;32m<ipython-input-17-f5add2a0b5a6>\u001b[0m in \u001b[0;36mdividemerge\u001b[0;34m(self, data)\u001b[0m\n\u001b[1;32m     15\u001b[0m         \u001b[0mright_data\u001b[0m \u001b[0;34m=\u001b[0m \u001b[0mdata\u001b[0m\u001b[0;34m[\u001b[0m\u001b[0mmid_val\u001b[0m\u001b[0;34m:\u001b[0m\u001b[0;34m]\u001b[0m\u001b[0;34m\u001b[0m\u001b[0;34m\u001b[0m\u001b[0m\n\u001b[1;32m     16\u001b[0m \u001b[0;34m\u001b[0m\u001b[0m\n\u001b[0;32m---> 17\u001b[0;31m         \u001b[0mself\u001b[0m\u001b[0;34m.\u001b[0m\u001b[0mdividemerge\u001b[0m\u001b[0;34m(\u001b[0m\u001b[0mleft_data\u001b[0m\u001b[0;34m)\u001b[0m\u001b[0;34m\u001b[0m\u001b[0;34m\u001b[0m\u001b[0m\n\u001b[0m\u001b[1;32m     18\u001b[0m         \u001b[0mself\u001b[0m\u001b[0;34m.\u001b[0m\u001b[0mdividemerge\u001b[0m\u001b[0;34m(\u001b[0m\u001b[0mright_data\u001b[0m\u001b[0;34m)\u001b[0m\u001b[0;34m\u001b[0m\u001b[0;34m\u001b[0m\u001b[0m\n\u001b[1;32m     19\u001b[0m \u001b[0;34m\u001b[0m\u001b[0m\n",
      "\u001b[0;32m<ipython-input-17-f5add2a0b5a6>\u001b[0m in \u001b[0;36mdividemerge\u001b[0;34m(self, data)\u001b[0m\n\u001b[1;32m     47\u001b[0m             \u001b[0mtotal_len\u001b[0m \u001b[0;34m=\u001b[0m \u001b[0mtotal_len\u001b[0m\u001b[0;34m+\u001b[0m\u001b[0;36m1\u001b[0m\u001b[0;34m\u001b[0m\u001b[0;34m\u001b[0m\u001b[0m\n\u001b[1;32m     48\u001b[0m         \u001b[0;32mwhile\u001b[0m \u001b[0mright_len\u001b[0m\u001b[0;34m<\u001b[0m\u001b[0mlen\u001b[0m\u001b[0;34m(\u001b[0m\u001b[0mright_data\u001b[0m\u001b[0;34m)\u001b[0m\u001b[0;34m:\u001b[0m\u001b[0;34m\u001b[0m\u001b[0;34m\u001b[0m\u001b[0m\n\u001b[0;32m---> 49\u001b[0;31m             \u001b[0mdata\u001b[0m\u001b[0;34m[\u001b[0m\u001b[0mtotal_len\u001b[0m\u001b[0;34m]\u001b[0m\u001b[0;34m=\u001b[0m\u001b[0mright_data\u001b[0m\u001b[0;34m[\u001b[0m\u001b[0mright_len\u001b[0m\u001b[0;34m]\u001b[0m\u001b[0;34m\u001b[0m\u001b[0;34m\u001b[0m\u001b[0m\n\u001b[0m\u001b[1;32m     50\u001b[0m             \u001b[0mtotal_len\u001b[0m \u001b[0;34m=\u001b[0m \u001b[0mtotal_len\u001b[0m\u001b[0;34m+\u001b[0m\u001b[0;36m1\u001b[0m\u001b[0;34m\u001b[0m\u001b[0;34m\u001b[0m\u001b[0m\n\u001b[1;32m     51\u001b[0m \u001b[0;34m\u001b[0m\u001b[0m\n",
      "\u001b[0;31mIndexError\u001b[0m: list assignment index out of range"
     ]
    }
   ],
   "source": [
    "def dividemerge(data):\n",
    "        \n",
    "        \n",
    "        \n",
    "        if len(data)==1:\n",
    "            return\n",
    "        \n",
    "        mid_val = len(data)//2\n",
    "        \n",
    "        left_data = data[:mid_val]\n",
    "        right_data = data[mid_val:]\n",
    "        \n",
    "        self.dividemerge(left_data)\n",
    "        self.dividemerge(right_data)\n",
    "        \n",
    "        # merge phase\n",
    "        \n",
    "        left_len = 0 \n",
    "        right_len = 0\n",
    "        total_len = 0\n",
    "        \n",
    "#         print(left_data)\n",
    "#         print(right_data)\n",
    "#         print(\"#######\")\n",
    "        while left_len<len(left_data) and right_len<len(right_data):\n",
    "            print(\"in while loop\")\n",
    "            \n",
    "            if left_data[left_len]<right_data[right_len]:\n",
    "                data[total_len]=left_data[left_len]\n",
    "                left_len = left_len+1\n",
    "            else:\n",
    "                data[total_len]=right_data[right_len]\n",
    "                right_len = right_len+1\n",
    "                \n",
    "            total_len = total_len+1\n",
    "        print(data)    \n",
    "        \n",
    "        \n",
    "        #logic when there are more values in left as compared to right and visa versa\n",
    "        \n",
    "        while left_len<len(left_data):\n",
    "            data[total_len]=left_data[left_len]\n",
    "            left_len=left_len+1\n",
    "            total_len = total_len+1\n",
    "        while right_len<len(right_data):\n",
    "            data[total_len]=right_data[right_len]\n",
    "            total_len = total_len+1\n",
    "    \n",
    "        return data\n",
    "\n",
    "if __name__=='__main__':\n",
    "    data1 = [-1,10,8,3,4,9]\n",
    "    ms = Mergesort()\n",
    "    ms.dividemerge(data1)\n",
    "            "
   ]
  },
  {
   "cell_type": "code",
   "execution_count": null,
   "metadata": {},
   "outputs": [],
   "source": []
  }
 ],
 "metadata": {
  "kernelspec": {
   "display_name": "Python 3",
   "language": "python",
   "name": "python3"
  },
  "language_info": {
   "codemirror_mode": {
    "name": "ipython",
    "version": 3
   },
   "file_extension": ".py",
   "mimetype": "text/x-python",
   "name": "python",
   "nbconvert_exporter": "python",
   "pygments_lexer": "ipython3",
   "version": "3.8.3"
  }
 },
 "nbformat": 4,
 "nbformat_minor": 4
}
