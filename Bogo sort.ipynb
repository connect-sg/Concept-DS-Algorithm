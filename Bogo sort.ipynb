{
 "cells": [
  {
   "cell_type": "code",
   "execution_count": 8,
   "metadata": {},
   "outputs": [
    {
     "name": "stdout",
     "output_type": "stream",
     "text": [
      "[-2, 1, 4, 7]\n"
     ]
    }
   ],
   "source": [
    "import numpy as np\n",
    "class Bogo:\n",
    "    def __init__(self,num):\n",
    "        self.num = num\n",
    "        \n",
    "    def is_sorted(self):\n",
    "        for  i in range(len(self.num)-1):\n",
    "            if self.num[i]>self.num[i+1]:\n",
    "                return False\n",
    "            \n",
    "        return True\n",
    "        \n",
    "    def sort(self):\n",
    "        while not self.is_sorted():\n",
    "            self.shuffle()\n",
    "            \n",
    "            \n",
    "            \n",
    "    def shuffle(self):\n",
    "        for i in range(len(self.num)-2,-1,-1):\n",
    "            j = np.random.randint(0,i+1)\n",
    "            self.num[i],self.num[j] = self.num[j],self.num[i]\n",
    "        \n",
    "if __name__=='__main__':\n",
    "    bogoalgo = Bogo([4,-2,1,7])\n",
    "    bogoalgo.sort()\n",
    "    print(bogoalgo.num)\n",
    "    \n",
    "    "
   ]
  },
  {
   "cell_type": "code",
   "execution_count": null,
   "metadata": {},
   "outputs": [],
   "source": []
  }
 ],
 "metadata": {
  "kernelspec": {
   "display_name": "Python 3",
   "language": "python",
   "name": "python3"
  },
  "language_info": {
   "codemirror_mode": {
    "name": "ipython",
    "version": 3
   },
   "file_extension": ".py",
   "mimetype": "text/x-python",
   "name": "python",
   "nbconvert_exporter": "python",
   "pygments_lexer": "ipython3",
   "version": "3.8.3"
  }
 },
 "nbformat": 4,
 "nbformat_minor": 4
}
