{
 "cells": [
  {
   "cell_type": "code",
   "execution_count": 41,
   "metadata": {},
   "outputs": [
    {
     "name": "stdout",
     "output_type": "stream",
     "text": [
      "j value is -1\n",
      "high  value is 3\n",
      "1\n",
      "j value is -2\n",
      "high  value is 3\n",
      "2\n",
      "j value is 2\n",
      "high  value is 3\n",
      "3\n",
      "[-1, -2, 2, 3, 10, 8, 5]\n",
      "[-2, 2, -1, 3, 10, 8, 5]\n",
      "j value is 5\n",
      "high  value is 8\n",
      "5\n",
      "[-2, 2, -1, 3, 5, 8, 10]\n",
      "[-2, 2, -1, 3, 5, 8, 10]\n"
     ]
    }
   ],
   "source": [
    "class quicksort:\n",
    "    \n",
    "    def __init__(self,data):\n",
    "        self.data = data\n",
    "        \n",
    "    def sort(self):\n",
    "        self.quicksort(0,len(self.data)-1)\n",
    "\n",
    "        \n",
    "        return self.data\n",
    "    def quicksort(self, low,high):\n",
    "        pivot = self.breaktosort(low,high)\n",
    "        self.breaktosort(0,pivot-1)\n",
    "        self.breaktosort(pivot+1,high)\n",
    "        \n",
    "    def breaktosort(self,low,high):\n",
    "        # pivot for quick sort\n",
    "        \n",
    "        pivot_index = (low + high) // 2\n",
    "        \n",
    "        self.data[pivot_index],self.data[high]= self.data[high],self.data[pivot_index]\n",
    "        #lowest index assigned to i\n",
    "        i = low\n",
    "        \n",
    "        for j in range(i, high):\n",
    "             \n",
    "              if self.data[j]<=self.data[high]:\n",
    "                       print(\"j value is {}\".format(self.data[j]))\n",
    "                       print(\"high  value is {}\".format(self.data[high]))\n",
    "                       self.data[j],self.data[i]= self.data[i],self.data[j]\n",
    "                       i=i+1\n",
    "                       print(i)\n",
    "        self.data[i],self.data[high]= self.data[high],self.data[i]\n",
    "        print(self.data)\n",
    "        \n",
    "        return i\n",
    "        \n",
    "        # i will be the index of updated pivot               \n",
    "        \n",
    "\n",
    "    \n",
    "if __name__=='__main__':\n",
    "    data = [-1,5,10,3,2,8,-2]\n",
    "    qs = quicksort(data)\n",
    "    print(qs.sort())"
   ]
  },
  {
   "cell_type": "code",
   "execution_count": null,
   "metadata": {},
   "outputs": [],
   "source": []
  }
 ],
 "metadata": {
  "kernelspec": {
   "display_name": "Python 3",
   "language": "python",
   "name": "python3"
  },
  "language_info": {
   "codemirror_mode": {
    "name": "ipython",
    "version": 3
   },
   "file_extension": ".py",
   "mimetype": "text/x-python",
   "name": "python",
   "nbconvert_exporter": "python",
   "pygments_lexer": "ipython3",
   "version": "3.8.3"
  }
 },
 "nbformat": 4,
 "nbformat_minor": 4
}
