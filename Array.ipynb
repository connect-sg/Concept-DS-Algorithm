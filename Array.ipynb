{
 "cells": [
  {
   "cell_type": "code",
   "execution_count": 2,
   "metadata": {},
   "outputs": [],
   "source": [
    "list =[1,2,3,4,5]"
   ]
  },
  {
   "cell_type": "code",
   "execution_count": 3,
   "metadata": {},
   "outputs": [
    {
     "data": {
      "text/plain": [
       "5"
      ]
     },
     "execution_count": 3,
     "metadata": {},
     "output_type": "execute_result"
    }
   ],
   "source": [
    "list.pop()"
   ]
  },
  {
   "cell_type": "code",
   "execution_count": 4,
   "metadata": {},
   "outputs": [
    {
     "data": {
      "text/plain": [
       "[1, 2, 3, 4]"
      ]
     },
     "execution_count": 4,
     "metadata": {},
     "output_type": "execute_result"
    }
   ],
   "source": [
    "list"
   ]
  },
  {
   "cell_type": "code",
   "execution_count": 5,
   "metadata": {},
   "outputs": [],
   "source": [
    "list.append(5)"
   ]
  },
  {
   "cell_type": "code",
   "execution_count": 6,
   "metadata": {},
   "outputs": [
    {
     "data": {
      "text/plain": [
       "[5, 4, 3, 2, 1]"
      ]
     },
     "execution_count": 6,
     "metadata": {},
     "output_type": "execute_result"
    }
   ],
   "source": [
    "#reverse an array\n",
    "list[::-1]"
   ]
  },
  {
   "cell_type": "markdown",
   "metadata": {},
   "source": [
    "# Reverse an array through swapping "
   ]
  },
  {
   "cell_type": "code",
   "execution_count": 7,
   "metadata": {},
   "outputs": [],
   "source": [
    "# swapping will be done on first and last, second and second last and soon....."
   ]
  },
  {
   "cell_type": "code",
   "execution_count": 15,
   "metadata": {},
   "outputs": [],
   "source": [
    "#lets take an array \n",
    "array =[1,2,3,4,5,6,7,8,9]"
   ]
  },
  {
   "cell_type": "code",
   "execution_count": 16,
   "metadata": {},
   "outputs": [],
   "source": [
    "start = 0 #start index\n",
    "end = len(array)-1\n",
    "\n",
    "#swapping \n",
    "while end>start:\n",
    "    array[start],array[end]=array[end],array[start]\n",
    "    end =end -1\n",
    "    start =start +1\n",
    "\n"
   ]
  },
  {
   "cell_type": "code",
   "execution_count": 17,
   "metadata": {},
   "outputs": [
    {
     "data": {
      "text/plain": [
       "[9, 8, 7, 6, 5, 4, 3, 2, 1]"
      ]
     },
     "execution_count": 17,
     "metadata": {},
     "output_type": "execute_result"
    }
   ],
   "source": [
    "array"
   ]
  },
  {
   "cell_type": "markdown",
   "metadata": {},
   "source": [
    "# palindrome"
   ]
  },
  {
   "cell_type": "code",
   "execution_count": 17,
   "metadata": {},
   "outputs": [],
   "source": [
    "#array = [1,1,2,2,3,2,2,1,1]\n",
    "#array = [1,2,3,4,5,6,7]\n",
    "array = 'bnbb'"
   ]
  },
  {
   "cell_type": "code",
   "execution_count": 18,
   "metadata": {},
   "outputs": [
    {
     "name": "stdout",
     "output_type": "stream",
     "text": [
      "its non palindrome\n"
     ]
    }
   ],
   "source": [
    "start = 0\n",
    "end = len(array)-1\n",
    "\n",
    "while start<end:\n",
    "    if (array[start] == array[end]):\n",
    "       pass\n",
    "    else: \n",
    "        print(\"its non palindrome\")\n",
    "        break\n",
    "    start = start+1\n",
    "    end =end -1\n",
    "   "
   ]
  },
  {
   "cell_type": "markdown",
   "metadata": {},
   "source": [
    "# Anagram"
   ]
  },
  {
   "cell_type": "code",
   "execution_count": 22,
   "metadata": {},
   "outputs": [
    {
     "name": "stdout",
     "output_type": "stream",
     "text": [
      "False\n"
     ]
    }
   ],
   "source": [
    "def anagram(word1,word2):\n",
    "  if len(word1)!=len(word2):\n",
    "        return False\n",
    "    \n",
    "  else:\n",
    "    word1 =sorted(word1)\n",
    "    word2 = sorted(word2)\n",
    "    \n",
    "    for i in range(len(word1)):\n",
    "        if word1[i]!=word2[i]:\n",
    "            return False\n",
    "        \n",
    "    return True\n",
    "\n",
    "if __name__=='__main__':\n",
    "    print(anagram('restful','fuster'))\n",
    "        \n",
    "    \n",
    "    "
   ]
  },
  {
   "cell_type": "markdown",
   "metadata": {},
   "source": [
    "# Duplicate"
   ]
  },
  {
   "cell_type": "code",
   "execution_count": 26,
   "metadata": {},
   "outputs": [
    {
     "name": "stdout",
     "output_type": "stream",
     "text": [
      "1\n",
      "4\n"
     ]
    }
   ],
   "source": [
    "# the below method is iterating through each value and comparing to values not efficient as it will consume the memory\n",
    "list1 =[1,1,2,3,4,4]\n",
    "for i in range(len(list1)-1):\n",
    "    for j in range(i+1,len(list1)):\n",
    "        if(list1[i]==list1[j]):\n",
    "            print(list1[i])\n",
    "            \n",
    "\n",
    "    \n",
    "            "
   ]
  },
  {
   "cell_type": "code",
   "execution_count": 38,
   "metadata": {},
   "outputs": [
    {
     "name": "stdout",
     "output_type": "stream",
     "text": [
      "3 is duplicate\n",
      "1 is duplicate\n"
     ]
    }
   ],
   "source": [
    "# in place approach for the duplicate value \n",
    "list1 =[1,2,3,5,3,1]\n",
    "#note this logic is applicable now if values are within index range\n",
    "\n",
    "#we will go through each value i.e. list1[abs(list1[i])] and negate the number we visited\n",
    "#list1[abs(list1[0])]=>list1[1]=>2 change it to -2 so the list1 will now be [1,-2,3,5,3,1]\n",
    "#list1[abs(list1[1])]=>list1[2]=>3 change it to -3 so the list1 will now be [1,-2,-3,5,3,1]\n",
    "#list1[abs(list1[2])]=>list1[3]=>5 change it to -5 so the list1 will now be [1,-2,-3,-5,3,1]\n",
    "#list1[abs(list1[3])]=>list1[5]=>1 change it to -1 so the list1 will now be [1,-2,-3,-5,3,-1]\n",
    "##list1[abs(list1[4])]=>list1[3]=>-5  -5 as its negative so list1[4] i.e 3 if duplicate\n",
    "##list1[abs(list1[5])]=>list[1]=>-2 negative so list1[5] i.e. 1 is duplicate\n",
    "\n",
    "\n",
    "for i in range(len(list1)):\n",
    "    \n",
    "    if(list1[abs(list1[i])]>0):\n",
    "        list1[abs(list1[i])]=-list1[abs(list1[i])]\n",
    "    else:\n",
    "        print('{} is duplicate'.format(abs(list1[i])))\n",
    "    \n"
   ]
  },
  {
   "cell_type": "code",
   "execution_count": null,
   "metadata": {},
   "outputs": [],
   "source": []
  },
  {
   "cell_type": "code",
   "execution_count": null,
   "metadata": {},
   "outputs": [],
   "source": []
  }
 ],
 "metadata": {
  "kernelspec": {
   "display_name": "Python 3",
   "language": "python",
   "name": "python3"
  },
  "language_info": {
   "codemirror_mode": {
    "name": "ipython",
    "version": 3
   },
   "file_extension": ".py",
   "mimetype": "text/x-python",
   "name": "python",
   "nbconvert_exporter": "python",
   "pygments_lexer": "ipython3",
   "version": "3.8.3"
  }
 },
 "nbformat": 4,
 "nbformat_minor": 4
}
