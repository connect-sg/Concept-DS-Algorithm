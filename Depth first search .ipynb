{
 "cells": [
  {
   "cell_type": "code",
   "execution_count": 15,
   "metadata": {},
   "outputs": [
    {
     "name": "stdout",
     "output_type": "stream",
     "text": [
      "A\n",
      "C\n",
      "B\n",
      "D\n",
      "E\n"
     ]
    }
   ],
   "source": [
    "class Node:\n",
    "    def __init__(self,name):\n",
    "        self.dependency_list =[]\n",
    "        self.visited = False\n",
    "        self.name = name\n",
    "        \n",
    "def dfs(start_node):        \n",
    "    #LIFO\n",
    "    stack = [start_node]\n",
    "    \n",
    "    \n",
    "    while stack:\n",
    "        \n",
    "        actual_node = stack.pop()\n",
    "        actual_node.visited = True\n",
    "        print(actual_node.name) \n",
    "        \n",
    "        for i in actual_node.dependency_list:\n",
    "            if not i.visited:\n",
    "                stack.append(i)\n",
    "            \n",
    "if __name__=='__main__':\n",
    "    node1 = Node('A')\n",
    "    node2 = Node('B')\n",
    "    node3 = Node('C')\n",
    "    node4 = Node('D')\n",
    "    node5 = Node('E')\n",
    "    \n",
    "    \n",
    "    node1.dependency_list.append(node2)\n",
    "    node1.dependency_list.append(node3)\n",
    "    node2.dependency_list.append(node4)\n",
    "    node4.dependency_list.append(node5)\n",
    "    \n",
    "    dfs(node1)\n",
    "\n",
    "        "
   ]
  },
  {
   "cell_type": "code",
   "execution_count": 16,
   "metadata": {},
   "outputs": [
    {
     "name": "stdout",
     "output_type": "stream",
     "text": [
      "A\n",
      "B\n",
      "D\n",
      "E\n",
      "C\n"
     ]
    }
   ],
   "source": [
    "class Node:\n",
    "    def __init__(self,name):\n",
    "        self.dependency_list = []\n",
    "        self.visited = False\n",
    "        self.name = name\n",
    "        \n",
    "def dfs(start_node):\n",
    "    \n",
    "    \n",
    "    start_node.visited = True\n",
    "    print(start_node.name)\n",
    "    \n",
    "    \n",
    "    \n",
    "    for i in start_node.dependency_list:\n",
    "        if  not i.visited:\n",
    "            dfs(i)\n",
    "            \n",
    "            \n",
    "if __name__=='__main__':\n",
    "    node1 = Node('A')\n",
    "    node2 = Node('B')\n",
    "    node3 = Node('C')\n",
    "    node4 = Node('D')\n",
    "    node5 = Node('E')\n",
    "    \n",
    "    \n",
    "    node1.dependency_list.append(node2)\n",
    "    node1.dependency_list.append(node3)\n",
    "    node2.dependency_list.append(node4)\n",
    "    node4.dependency_list.append(node5)\n",
    "    \n",
    "    dfs(node1)            "
   ]
  },
  {
   "cell_type": "code",
   "execution_count": null,
   "metadata": {},
   "outputs": [],
   "source": []
  }
 ],
 "metadata": {
  "kernelspec": {
   "display_name": "Python 3",
   "language": "python",
   "name": "python3"
  },
  "language_info": {
   "codemirror_mode": {
    "name": "ipython",
    "version": 3
   },
   "file_extension": ".py",
   "mimetype": "text/x-python",
   "name": "python",
   "nbconvert_exporter": "python",
   "pygments_lexer": "ipython3",
   "version": "3.8.3"
  }
 },
 "nbformat": 4,
 "nbformat_minor": 4
}
