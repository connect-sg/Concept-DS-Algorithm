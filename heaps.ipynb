{
 "cells": [
  {
   "cell_type": "raw",
   "metadata": {},
   "source": [
    "max heap\n",
    "min heap \n",
    "heap sort \n",
    "binomial heap \n",
    "fibonnaci heap"
   ]
  },
  {
   "cell_type": "code",
   "execution_count": 26,
   "metadata": {},
   "outputs": [
    {
     "name": "stdout",
     "output_type": "stream",
     "text": [
      "10\n",
      "7\n",
      "3\n",
      "[3, 7, 10, 0, 0, 0, 0, 0, 0, 0]\n"
     ]
    }
   ],
   "source": [
    "capacity = 10 # size of the heap we will implement\n",
    "\n",
    "class Heap:\n",
    "    def __init__(self):\n",
    "        self.heap_size = 0\n",
    "        self.heap = [0]*capacity\n",
    "        \n",
    "        \n",
    "    def insert(self,data):\n",
    "        if self.heap_size<capacity:\n",
    "            self.heap[self.heap_size]=data\n",
    "            self.heap_size = self.heap_size+1\n",
    "            \n",
    "            self.validate_heap_upside(self.heap_size - 1)\n",
    "    \n",
    "    def validate_heap_upside(self,index):\n",
    "        \n",
    "        #index for parent node\n",
    "        \n",
    "        parent_index = (index-1)//2\n",
    "        \n",
    "        if index>0 and self.heap[index]>self.heap[parent_index]:\n",
    "            self.heap[index],self.heap[parent_index]= self.heap[parent_index],self.heap[index]\n",
    "            self.validate_heap_upside(parent_index)\n",
    "     \n",
    "    #max value \n",
    "    def max_value(self):\n",
    "        return self.heap[0]\n",
    "    \n",
    "    def poll(self):\n",
    "    #remove max value\n",
    "      maxim = self.max_value()\n",
    "     \n",
    "      self.heap[0],self.heap[self.heap_size-1] = self.heap[self.heap_size - 1],self.heap[0]\n",
    "      self.heap_size = self.heap_size - 1\n",
    "      self.validate_heap_down(0)\n",
    "    \n",
    "      return maxim\n",
    "    \n",
    "    \n",
    "    def validate_heap_down(self,index):\n",
    "        left_index = 2*index +1\n",
    "        right_index = 2*index +2\n",
    "\n",
    "        if left_index<self.heap_size and self.heap[left_index]>self.heap[index]:\n",
    "             self.heap[left_index],self.heap[index]= self.heap[index],self.heap[left_index]  \n",
    "             self.validate_heap_down(left_index)\n",
    "        if right_index<self.heap_size and self.heap[index]<self.heap[right_index]: \n",
    "             self.heap[right_index],self.heap[index]= self.heap[index],self.heap[right_index]  \n",
    "             self.validate_heap_down(right_index)\n",
    "            \n",
    "            \n",
    "            \n",
    "            \n",
    "    def heapsort(self):\n",
    "        for _ in range(self.heap_size):\n",
    "           value = self.poll()\n",
    "           print(value)\n",
    "            \n",
    "            \n",
    "            \n",
    "if __name__ =='__main__':\n",
    "    heap = Heap()\n",
    "    heap.insert(3)\n",
    "    heap.insert(7)\n",
    "    heap.insert(10)\n",
    "    heap.heapsort()\n",
    "    print(heap.heap)\n",
    "    \n",
    "            \n",
    "        "
   ]
  }
 ],
 "metadata": {
  "kernelspec": {
   "display_name": "Python 3",
   "language": "python",
   "name": "python3"
  },
  "language_info": {
   "codemirror_mode": {
    "name": "ipython",
    "version": 3
   },
   "file_extension": ".py",
   "mimetype": "text/x-python",
   "name": "python",
   "nbconvert_exporter": "python",
   "pygments_lexer": "ipython3",
   "version": "3.8.3"
  }
 },
 "nbformat": 4,
 "nbformat_minor": 4
}
