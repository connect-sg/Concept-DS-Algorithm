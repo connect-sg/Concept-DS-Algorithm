{
 "cells": [
  {
   "cell_type": "code",
   "execution_count": 19,
   "metadata": {},
   "outputs": [
    {
     "name": "stdout",
     "output_type": "stream",
     "text": [
      "1\n",
      "7\n",
      "6\n",
      "5\n"
     ]
    }
   ],
   "source": [
    "class Node:\n",
    "    def __init__(self, data):\n",
    "        self.data = data\n",
    "        self.next = None\n",
    "\n",
    "class linkedList:\n",
    "    def __init__(self):\n",
    "        self.head = None\n",
    "        self.curr = None\n",
    "        self.prev = None\n",
    "        self.next = None\n",
    "        \n",
    "    def insert(self,data):\n",
    "        newData = Node(data)\n",
    "        if self.head is None:\n",
    "            self.head = newData\n",
    "            \n",
    "        else:\n",
    "            value = self.head\n",
    "            while(value.next is not None):\n",
    "                value  = value.next\n",
    "            value.next = newData\n",
    "            newData.next = None\n",
    "            \n",
    "    def traverse(self):\n",
    "        printval = self.head\n",
    "        while printval is not None:\n",
    "            print(printval.data)\n",
    "            printval = printval.next\n",
    "        \n",
    "        \n",
    "    def reverse(self): \n",
    "      self.next = self.head\n",
    "      while self.next is not None: \n",
    "        #print('s1')    \n",
    "        self.curr = self.next\n",
    "        self.next = self.next.next\n",
    "        \n",
    "        self.curr.next = self.prev\n",
    "        self.prev = self.curr\n",
    "      #print('s2')  \n",
    "      self.head =  self.curr\n",
    "\n",
    "if __name__=='__main__':\n",
    "    ll = linkedList()\n",
    "    ll.insert(5)\n",
    "    ll.insert(6)\n",
    "    ll.insert(7)\n",
    "    ll.insert(1)\n",
    "    ll.reverse()\n",
    "    ll.traverse()"
   ]
  },
  {
   "cell_type": "code",
   "execution_count": null,
   "metadata": {},
   "outputs": [],
   "source": []
  },
  {
   "cell_type": "code",
   "execution_count": null,
   "metadata": {},
   "outputs": [],
   "source": []
  }
 ],
 "metadata": {
  "kernelspec": {
   "display_name": "Python 3",
   "language": "python",
   "name": "python3"
  },
  "language_info": {
   "codemirror_mode": {
    "name": "ipython",
    "version": 3
   },
   "file_extension": ".py",
   "mimetype": "text/x-python",
   "name": "python",
   "nbconvert_exporter": "python",
   "pygments_lexer": "ipython3",
   "version": "3.8.3"
  }
 },
 "nbformat": 4,
 "nbformat_minor": 4
}
