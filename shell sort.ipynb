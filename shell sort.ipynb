{
 "cells": [
  {
   "cell_type": "code",
   "execution_count": 4,
   "metadata": {},
   "outputs": [
    {
     "name": "stdout",
     "output_type": "stream",
     "text": [
      "[-1, -3, 2, 0, 10, 3, 4]\n"
     ]
    }
   ],
   "source": [
    "def shell_sort(num):\n",
    "    \n",
    "    interval = len(num)//2\n",
    "    \n",
    "    for i in range(interval,len(num)):\n",
    "        j = i\n",
    "        while j> interval and num[j]<num[j-interval]:\n",
    "            num[j],num[j-interval] = num[j-interval],num[j]\n",
    "            \n",
    "            j = j- interval\n",
    "            \n",
    "       \n",
    "        interval = interval//2\n",
    "        \n",
    "    return num\n",
    "        \n",
    "if __name__=='__main__':\n",
    "    num = [-1,-3,2,0,10,3,4]\n",
    "    print(shell_sort(num))\n",
    "        "
   ]
  },
  {
   "cell_type": "code",
   "execution_count": null,
   "metadata": {},
   "outputs": [],
   "source": []
  },
  {
   "cell_type": "code",
   "execution_count": null,
   "metadata": {},
   "outputs": [],
   "source": []
  }
 ],
 "metadata": {
  "kernelspec": {
   "display_name": "Python 3",
   "language": "python",
   "name": "python3"
  },
  "language_info": {
   "codemirror_mode": {
    "name": "ipython",
    "version": 3
   },
   "file_extension": ".py",
   "mimetype": "text/x-python",
   "name": "python",
   "nbconvert_exporter": "python",
   "pygments_lexer": "ipython3",
   "version": "3.8.3"
  }
 },
 "nbformat": 4,
 "nbformat_minor": 4
}
