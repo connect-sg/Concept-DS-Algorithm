{
 "cells": [
  {
   "cell_type": "code",
   "execution_count": null,
   "metadata": {},
   "outputs": [],
   "source": [
    "class Edge:\n",
    "    def __init__(self):\n",
    "        self.start_vertex. = start_vertex\n",
    "        self.end_vertex = end_vertex\n",
    "        self.weight = weight\n",
    "class Node:\n",
    "    def __init__(self,name):\n",
    "        self.name = name \n",
    "        self.visited = False\n",
    "        self.adjacency_list = []\n",
    "        self.distance = float('inf')\n",
    "        self.predecessor = None\n",
    "        \n",
    "class BellmanFord:\n",
    "    \n",
    "    def __init__()\n",
    "    \n",
    "        "
   ]
  }
 ],
 "metadata": {
  "kernelspec": {
   "display_name": "Python 3",
   "language": "python",
   "name": "python3"
  },
  "language_info": {
   "codemirror_mode": {
    "name": "ipython",
    "version": 3
   },
   "file_extension": ".py",
   "mimetype": "text/x-python",
   "name": "python",
   "nbconvert_exporter": "python",
   "pygments_lexer": "ipython3",
   "version": "3.8.3"
  }
 },
 "nbformat": 4,
 "nbformat_minor": 4
}
