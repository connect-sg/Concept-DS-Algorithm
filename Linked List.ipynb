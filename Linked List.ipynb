{
 "cells": [
  {
   "cell_type": "code",
   "execution_count": 36,
   "metadata": {},
   "outputs": [
    {
     "name": "stdout",
     "output_type": "stream",
     "text": [
      "6\n",
      "2\n"
     ]
    }
   ],
   "source": [
    "#Node class for each node in the linked list\n",
    "class Node: \n",
    "# data will be passed to the linked list using Node class    \n",
    "    def __init__(self, data):\n",
    "        self.data =data\n",
    "        self.next = None\n",
    "#LinkedList class         \n",
    "class LinkedList():\n",
    "    def __init__(self):\n",
    "        self.head = None\n",
    "#insert a data at the start of the linked list    \n",
    "    def insertAtStart(self,data):\n",
    "# nextdata is the data node that will be inserted  in linked list        \n",
    "         nextdata = Node(data)\n",
    "# if head is None then it should be equal to the value inserted     \n",
    "         if self.head is None:        \n",
    "            self.head = nextdata\n",
    "#else             \n",
    "         else:\n",
    "#current head node will be assigned as next value for nextdata node as nextdata is to be inserted at start        \n",
    "            nextdata.next = self.head    \n",
    "            self.head = nextdata\n",
    "#insert at end    \n",
    "    def insertAtEnd(self,data):\n",
    "         nextdata = Node(data)\n",
    "         actualNode= self.head   \n",
    "         if self.head is None:\n",
    "            self.head = nextdata\n",
    "         else:\n",
    "            while actualNode.next is not None:\n",
    "                actualNode = actualNode.next\n",
    "            actualNode.next = nextdata \n",
    "    \n",
    "    def removeAtStart(self):\n",
    "        remove_value = self.head\n",
    "        self.head = remove_value.next\n",
    "    \n",
    "    def removeAtEnd(self):\n",
    "        actual_value = self.head\n",
    "        while actual_value.next is not None:\n",
    "             previous_val = actual_value\n",
    "             actual_value = actual_value.next\n",
    "        previous_val.next = None \n",
    "        actual_value = None\n",
    "    \n",
    "    def removeInBetween(self, data):\n",
    "        remove_data = Node(data)\n",
    "        actual_val = self.head\n",
    "        while actual_val.next is not None and actual_val.data!=remove_data.data:\n",
    "            previous_val = actual_val\n",
    "            actual_val = actual_val.next\n",
    "        \n",
    "        if actual_val is None:\n",
    "            return \n",
    "        previous_val.next = actual_val.next\n",
    "        actual_val = None\n",
    "            \n",
    "        \n",
    "    def traverse(self):\n",
    "        printval = self.head\n",
    "        while printval is not None:\n",
    "            print(printval.data)\n",
    "            printval = printval.next\n",
    "            \n",
    "            \n",
    "        \n",
    "ll = LinkedList()\n",
    "ll.head = Node(5)\n",
    "ll.insertAtEnd(9)\n",
    "ll.insertAtStart(6)\n",
    "ll.insertAtStart(1)\n",
    "ll.insertAtEnd(2)\n",
    "ll.insertAtEnd(4)\n",
    "ll.removeAtStart()\n",
    "ll.removeAtEnd()\n",
    "ll.removeInBetween(5)\n",
    "ll.removeInBetween(9)\n",
    "ll.traverse()\n",
    "         "
   ]
  },
  {
   "cell_type": "code",
   "execution_count": null,
   "metadata": {},
   "outputs": [],
   "source": []
  },
  {
   "cell_type": "code",
   "execution_count": null,
   "metadata": {},
   "outputs": [],
   "source": []
  }
 ],
 "metadata": {
  "kernelspec": {
   "display_name": "Python 3",
   "language": "python",
   "name": "python3"
  },
  "language_info": {
   "codemirror_mode": {
    "name": "ipython",
    "version": 3
   },
   "file_extension": ".py",
   "mimetype": "text/x-python",
   "name": "python",
   "nbconvert_exporter": "python",
   "pygments_lexer": "ipython3",
   "version": "3.8.3"
  }
 },
 "nbformat": 4,
 "nbformat_minor": 4
}
