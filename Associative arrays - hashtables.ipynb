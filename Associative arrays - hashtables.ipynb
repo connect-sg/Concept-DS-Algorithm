{
 "cells": [
  {
   "cell_type": "code",
   "execution_count": 7,
   "metadata": {},
   "outputs": [
    {
     "name": "stdout",
     "output_type": "stream",
     "text": [
      "[None, None, None, None, 'Tang', 'Ale', None, None, 'charlie', None]\n",
      "[None, None, None, None, 34, 45, None, None, 5, None]\n"
     ]
    }
   ],
   "source": [
    "class Hashtables:\n",
    "    def __init__(self):\n",
    "        self.capacity = 10\n",
    "        self.keys = [None]*self.capacity\n",
    "        self.values =[None]*self.capacity\n",
    "        \n",
    "    def insert(self,key, data):\n",
    "        index = self.hash_function(key)\n",
    "        \n",
    "        while self.keys[index] is not None:\n",
    "            if self.keys[index]==key:\n",
    "                self.values[index]=data\n",
    "                \n",
    "           \n",
    "        #linear probation\n",
    "            index = (index+1)%self.capacity\n",
    "        \n",
    "        self.keys[index]=key\n",
    "        self.values[index]=data\n",
    "        \n",
    "    def getvalue(self,key):\n",
    "        index = self.hash_function(key)\n",
    "        while self.keys[index] is not None:\n",
    "            \n",
    "            if self.keys[index]==key:\n",
    "                return self.values[index]\n",
    "            \n",
    "            index =(index+1)%self.capacity\n",
    "        \n",
    "        return None\n",
    "    \n",
    "    def hash_function(self,key):\n",
    "        sumascii = 0\n",
    "        for letter in key:\n",
    "            sumascii =sumascii + ord(letter)\n",
    "        index = sumascii%self.capacity\n",
    "        \n",
    "        return index  \n",
    "    \n",
    "    \n",
    "if __name__ =='__main__':\n",
    "    ht = Hashtables()\n",
    "    ht.insert('Tang',34)\n",
    "    ht.insert('charlie',5)\n",
    "    ht.insert('Ale',45)\n",
    "    print(ht.keys)\n",
    "    print(ht.values)\n",
    "    "
   ]
  },
  {
   "cell_type": "code",
   "execution_count": 9,
   "metadata": {},
   "outputs": [
    {
     "name": "stdout",
     "output_type": "stream",
     "text": [
      "8\n"
     ]
    }
   ],
   "source": [
    "index = 7\n",
    "capacity = 10\n",
    "print((index+1)%capacity)"
   ]
  },
  {
   "cell_type": "code",
   "execution_count": null,
   "metadata": {},
   "outputs": [],
   "source": []
  },
  {
   "cell_type": "code",
   "execution_count": null,
   "metadata": {},
   "outputs": [],
   "source": []
  }
 ],
 "metadata": {
  "kernelspec": {
   "display_name": "Python 3",
   "language": "python",
   "name": "python3"
  },
  "language_info": {
   "codemirror_mode": {
    "name": "ipython",
    "version": 3
   },
   "file_extension": ".py",
   "mimetype": "text/x-python",
   "name": "python",
   "nbconvert_exporter": "python",
   "pygments_lexer": "ipython3",
   "version": "3.8.3"
  }
 },
 "nbformat": 4,
 "nbformat_minor": 4
}
