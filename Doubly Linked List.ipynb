{
 "cells": [
  {
   "cell_type": "raw",
   "metadata": {},
   "source": [
    "Doubly linked list - traverse can be done in both direction\n",
    "it has both head and tail because of which adding data node at start and end is O(1)\n"
   ]
  },
  {
   "cell_type": "code",
   "execution_count": 49,
   "metadata": {},
   "outputs": [
    {
     "name": "stdout",
     "output_type": "stream",
     "text": [
      "2\n",
      "4\n",
      "1\n",
      "6\n",
      "7\n"
     ]
    }
   ],
   "source": [
    "# node for doubly linked list\n",
    "class Node:\n",
    "    def __init__(self, data):\n",
    "        self.data =data\n",
    "        self.next = None\n",
    "        self.prev = None\n",
    "        \n",
    "# class for doubly linked list\n",
    "class DLinkedList:\n",
    "    def __init__(self):\n",
    "        self.head = None\n",
    "        self.tail = None\n",
    "\n",
    "#insert data at the end of the DLInkedList\n",
    "    def insertAtEnd(self, data):\n",
    "        new_data = Node(data)\n",
    "        if self.head is None:\n",
    "            self.head = new_data\n",
    "            self.tail = new_data\n",
    "        else:\n",
    "            self.tail.next= new_data\n",
    "            new_data.prev = self.tail\n",
    "            self.tail = new_data\n",
    "            \n",
    "                   \n",
    "# insert data at the start of the DLinkedLIst\n",
    "    def insertAtStart(self,data):\n",
    "        new_data = Node(data)\n",
    "        if self.head is None:\n",
    "            self.head = new_data\n",
    "            self.tail = new_data\n",
    "        else:\n",
    "            self.head.prev = new_data\n",
    "            new_data.next = self.head\n",
    "            self.head = new_data\n",
    "            \n",
    "            \n",
    "#traverse in forward direction\n",
    "    def traverseForward(self):\n",
    "        printval = self.head\n",
    "        while printval is not None:\n",
    "            print(printval.data)\n",
    "            printval = printval.next\n",
    "            \n",
    "    def traverseBackward(self):\n",
    "        printval = self.tail\n",
    "        while printval is not None:\n",
    "            print(printval.data)\n",
    "            printval = printval.prev\n",
    "            \n",
    "               \n",
    "            \n",
    "  \n",
    "if __name__=='__main__':\n",
    "    dll = DLinkedList()\n",
    "    dll.insertAtStart(1)\n",
    "    dll.insertAtStart(6)\n",
    "    dll.insertAtStart(7)\n",
    "    dll.insertAtEnd(4)\n",
    "    dll.insertAtEnd(2)\n",
    "    #dll.traverseForward()\n",
    "    dll.traverseBackward()\n",
    "\n",
    "\n",
    "\n",
    "\n"
   ]
  },
  {
   "cell_type": "code",
   "execution_count": null,
   "metadata": {},
   "outputs": [],
   "source": []
  },
  {
   "cell_type": "code",
   "execution_count": null,
   "metadata": {},
   "outputs": [],
   "source": []
  }
 ],
 "metadata": {
  "kernelspec": {
   "display_name": "Python 3",
   "language": "python",
   "name": "python3"
  },
  "language_info": {
   "codemirror_mode": {
    "name": "ipython",
    "version": 3
   },
   "file_extension": ".py",
   "mimetype": "text/x-python",
   "name": "python",
   "nbconvert_exporter": "python",
   "pygments_lexer": "ipython3",
   "version": "3.8.3"
  }
 },
 "nbformat": 4,
 "nbformat_minor": 4
}
