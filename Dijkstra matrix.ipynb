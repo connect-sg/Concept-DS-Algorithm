{
 "cells": [
  {
   "cell_type": "code",
   "execution_count": 5,
   "metadata": {},
   "outputs": [
    {
     "name": "stdout",
     "output_type": "stream",
     "text": [
      "0\n",
      "0\n",
      "0\n",
      "0\n",
      "0\n",
      "0\n"
     ]
    },
    {
     "data": {
      "text/plain": [
       "<bound method dijkstramatrix.print_distance of <__main__.dijkstramatrix object at 0x7fb23db62340>>"
      ]
     },
     "execution_count": 5,
     "metadata": {},
     "output_type": "execute_result"
    }
   ],
   "source": [
    "import sys\n",
    "class dijkstramatrix:\n",
    "    def __init__(self,adjacency_list,start_vertex):\n",
    "        self.adjacency_list =adjacency_list\n",
    "        self.start_vertex = start_vertex\n",
    "        self.v = len(self.adjacency_list)\n",
    "        self.visited = [False for _ in range(self.v)]\n",
    "        self.distance = [float('inf') for _ in range(self.v)]\n",
    "        \n",
    "        \n",
    "    def get_min_vertex(self):\n",
    "        get_min_vertex = sys.maxsize\n",
    "        get_min_index = 0\n",
    "        for index in range(self.v):\n",
    "             if not self.visited[index] and self.distance[index]<get_min_vertex:\n",
    "                get_min_value=self.distance[index]\n",
    "                get_min_index=index\n",
    "        return get_min_index        \n",
    "    \n",
    "    \n",
    "    def calculate(self):\n",
    "        \n",
    "        for i in range(self.v):\n",
    "            actual_vertex = self.get_min_vertex()\n",
    "            print(actual_vertex)\n",
    "            self.visited[actual_vertex]= True\n",
    "            for other_vertex in range(self.v):\n",
    "                if self.adjacency_list[actual_vertex][other_vertex]>0:\n",
    "                    dist = self.distance[actual_vertex]+self.adjacency_list[actual_vertex][other_vertex]\n",
    "                    if dist<self.distance[other_vertex]:\n",
    "                        self.distance[other_vertex]= dist\n",
    "                        \n",
    "                        \n",
    "    def print_distance(self):\n",
    "        print(self.distance)\n",
    "        \n",
    "        \n",
    "if __name__ == '__main__':\n",
    "\n",
    "    m = [[0, 7, 5, 2, 0, 0],\n",
    "         [7, 0, 0, 0, 3, 8],\n",
    "         [5, 0, 0, 10, 4, 0],\n",
    "         [2, 0, 10, 0, 0, 2],\n",
    "         [0, 3, 4, 0, 0, 6],\n",
    "         [0, 8, 0, 2, 6, 0]]\n",
    "    \n",
    "dm = dijkstramatrix(m,1)\n",
    "dm.calculate()\n",
    "dm.print_distance\n",
    "                    \n",
    "\n",
    "            "
   ]
  },
  {
   "cell_type": "code",
   "execution_count": null,
   "metadata": {},
   "outputs": [],
   "source": []
  }
 ],
 "metadata": {
  "kernelspec": {
   "display_name": "Python 3",
   "language": "python",
   "name": "python3"
  },
  "language_info": {
   "codemirror_mode": {
    "name": "ipython",
    "version": 3
   },
   "file_extension": ".py",
   "mimetype": "text/x-python",
   "name": "python",
   "nbconvert_exporter": "python",
   "pygments_lexer": "ipython3",
   "version": "3.8.3"
  }
 },
 "nbformat": 4,
 "nbformat_minor": 4
}
