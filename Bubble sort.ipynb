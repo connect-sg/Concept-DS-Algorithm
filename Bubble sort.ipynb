{
 "cells": [
  {
   "cell_type": "code",
   "execution_count": 2,
   "metadata": {},
   "outputs": [
    {
     "name": "stdout",
     "output_type": "stream",
     "text": [
      "[-2, 0, 1, 4, 5, 7]\n"
     ]
    }
   ],
   "source": [
    "class Bubblesort:\n",
    "    def __init__(self,num):\n",
    "        self.num = num\n",
    "        \n",
    "    def sort(self):\n",
    "        for i in range(len(self.num)-1):\n",
    "            for j in range(len(self.num)-i-1):\n",
    "                if self.num[j]>self.num[j+1]:\n",
    "                    self.swap(j,j+1)\n",
    "        \n",
    "    def swap(self,i,j):\n",
    "        self.num[i],self.num[j] = self.num[j],self.num[i]\n",
    "        \n",
    "    \n",
    "if __name__=='__main__':\n",
    "    bs = Bubblesort([4,-2,1,0,5,7])\n",
    "    bs.sort()\n",
    "    print(bs.num)"
   ]
  },
  {
   "cell_type": "code",
   "execution_count": null,
   "metadata": {},
   "outputs": [],
   "source": []
  }
 ],
 "metadata": {
  "kernelspec": {
   "display_name": "Python 3",
   "language": "python",
   "name": "python3"
  },
  "language_info": {
   "codemirror_mode": {
    "name": "ipython",
    "version": 3
   },
   "file_extension": ".py",
   "mimetype": "text/x-python",
   "name": "python",
   "nbconvert_exporter": "python",
   "pygments_lexer": "ipython3",
   "version": "3.8.3"
  }
 },
 "nbformat": 4,
 "nbformat_minor": 4
}
