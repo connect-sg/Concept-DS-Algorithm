{
 "cells": [
  {
   "cell_type": "code",
   "execution_count": 10,
   "metadata": {},
   "outputs": [
    {
     "name": "stdout",
     "output_type": "stream",
     "text": [
      "A\n",
      "B\n",
      "C\n",
      "D\n",
      "E\n"
     ]
    }
   ],
   "source": [
    "class Node:\n",
    "    def __init__(self,name):\n",
    "        self.name = name\n",
    "        self.adjucency_list =[]\n",
    "        self.visited = False\n",
    "        \n",
    "        \n",
    "def DFS(firstnode):\n",
    "        queue =[firstnode]\n",
    "        \n",
    "        while queue:\n",
    "            \n",
    "            visitednode = queue.pop()\n",
    "            visitednode.visited = True\n",
    "            print(visitednode.name)\n",
    "            \n",
    "            for i in visitednode.adjucency_list:\n",
    "                if i.visited == False:\n",
    "                    queue.append(i)\n",
    "                \n",
    "if __name__=='__main__':\n",
    "    node1 = Node('A')\n",
    "    node2 = Node('B')\n",
    "    node3 = Node('C')\n",
    "    node4 = Node('D')\n",
    "    node5 = Node('E')\n",
    "    \n",
    "    \n",
    "    node1.adjucency_list.append(node2)\n",
    "    node2.adjucency_list.append(node3)\n",
    "    node3.adjucency_list.append(node4)\n",
    "    node4.adjucency_list.append(node5)\n",
    "    \n",
    "    DFS(node1)\n",
    "    \n",
    "        "
   ]
  },
  {
   "cell_type": "code",
   "execution_count": null,
   "metadata": {},
   "outputs": [],
   "source": []
  }
 ],
 "metadata": {
  "kernelspec": {
   "display_name": "Python 3",
   "language": "python",
   "name": "python3"
  },
  "language_info": {
   "codemirror_mode": {
    "name": "ipython",
    "version": 3
   },
   "file_extension": ".py",
   "mimetype": "text/x-python",
   "name": "python",
   "nbconvert_exporter": "python",
   "pygments_lexer": "ipython3",
   "version": "3.8.3"
  }
 },
 "nbformat": 4,
 "nbformat_minor": 4
}
