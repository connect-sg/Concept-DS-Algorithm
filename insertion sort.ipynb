{
 "cells": [
  {
   "cell_type": "code",
   "execution_count": 1,
   "metadata": {},
   "outputs": [
    {
     "name": "stdout",
     "output_type": "stream",
     "text": [
      "[-4, -3, -2, -1, 1, 2, 4, 5, 6, 10]\n"
     ]
    }
   ],
   "source": [
    "def insertion_sort(num):\n",
    "    for i in range(len(num)):\n",
    "        j = i\n",
    "        while j >0 and num[j]<num[j-1]:\n",
    "            num[j-1],num[j] = num[j],num[j-1]\n",
    "            j = j-1\n",
    "    return num        \n",
    "            \n",
    "if __name__=='__main__':\n",
    "    num = [2,-2,1,4,5,6,10,-1,-3,-4]\n",
    "    print(insertion_sort(num))"
   ]
  },
  {
   "cell_type": "code",
   "execution_count": null,
   "metadata": {},
   "outputs": [],
   "source": []
  }
 ],
 "metadata": {
  "kernelspec": {
   "display_name": "Python 3",
   "language": "python",
   "name": "python3"
  },
  "language_info": {
   "codemirror_mode": {
    "name": "ipython",
    "version": 3
   },
   "file_extension": ".py",
   "mimetype": "text/x-python",
   "name": "python",
   "nbconvert_exporter": "python",
   "pygments_lexer": "ipython3",
   "version": "3.8.3"
  }
 },
 "nbformat": 4,
 "nbformat_minor": 4
}
