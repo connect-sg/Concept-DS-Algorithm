{
 "cells": [
  {
   "cell_type": "raw",
   "metadata": {},
   "source": [
    "1. LIFO\n",
    "2. abstract data type\n",
    "3. pop(), push(),peek()\n",
    "4. can be implmented with array or Linked List\n",
    "\n",
    "used in back button for website, undo on application, hold local variables in programming etc."
   ]
  },
  {
   "cell_type": "code",
   "execution_count": 6,
   "metadata": {},
   "outputs": [
    {
     "name": "stdout",
     "output_type": "stream",
     "text": [
      "4\n",
      "[1, 6, 9, 0]\n",
      "[1, 6, 9]\n"
     ]
    }
   ],
   "source": [
    "class Stack:\n",
    "    def __init__(self):\n",
    "        self.stack =[]\n",
    "    \n",
    "    #insert value in the stack\n",
    "    def push(self,data):\n",
    "        self.stack.append(data)\n",
    "    # remove last value from the stack\n",
    "    def pop(self):\n",
    "         if self.stack_size()<1:\n",
    "                return\n",
    "            \n",
    "         del self.stack[-1]\n",
    "         return self.stack\n",
    "    #return last value from the stack \n",
    "    def peek(self):\n",
    "        return self.stack[-1]\n",
    "    \n",
    "    # clear the stack\n",
    "    def is_empty(self):\n",
    "        return self.stack==[]\n",
    "    #stack size\n",
    "    def stack_size(self):\n",
    "      return len(self.stack)\n",
    "    def stack_val(self):\n",
    "        return self.stack\n",
    "\n",
    "if __name__=='__main__':\n",
    "    stk = Stack()\n",
    "    stk.push(1)\n",
    "    stk.push(6)\n",
    "    stk.push(9)\n",
    "    stk.push(0)\n",
    "    print(stk.stack_size())\n",
    "    print(stk.stack_val())\n",
    "    print(stk.pop())\n",
    "    "
   ]
  },
  {
   "cell_type": "code",
   "execution_count": null,
   "metadata": {},
   "outputs": [],
   "source": []
  }
 ],
 "metadata": {
  "kernelspec": {
   "display_name": "Python 3",
   "language": "python",
   "name": "python3"
  },
  "language_info": {
   "codemirror_mode": {
    "name": "ipython",
    "version": 3
   },
   "file_extension": ".py",
   "mimetype": "text/x-python",
   "name": "python",
   "nbconvert_exporter": "python",
   "pygments_lexer": "ipython3",
   "version": "3.8.3"
  }
 },
 "nbformat": 4,
 "nbformat_minor": 4
}
