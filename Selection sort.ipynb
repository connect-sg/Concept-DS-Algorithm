{
 "cells": [
  {
   "cell_type": "code",
   "execution_count": 19,
   "metadata": {},
   "outputs": [
    {
     "name": "stdout",
     "output_type": "stream",
     "text": [
      "[1, 2, 3, 4, 5]\n"
     ]
    }
   ],
   "source": [
    "def selection_sort(num):\n",
    "    \n",
    "    for i in range(len(num)-1):\n",
    "        \n",
    "        index = i \n",
    "        \n",
    "        for j in range(i, len(num)):\n",
    "            \n",
    "            if num[index]>num[j]:\n",
    "                \n",
    "                index = j\n",
    "                \n",
    "        if index!=i:\n",
    "            num[i],num[index] = num[index],num[i]\n",
    "    return num           \n",
    "                \n",
    "if __name__=='__main__':\n",
    "    num = [3,4,5,1,2]\n",
    "    print(selection_sort(num))\n",
    "                \n",
    "                "
   ]
  },
  {
   "cell_type": "code",
   "execution_count": null,
   "metadata": {},
   "outputs": [],
   "source": []
  },
  {
   "cell_type": "code",
   "execution_count": null,
   "metadata": {},
   "outputs": [],
   "source": []
  }
 ],
 "metadata": {
  "kernelspec": {
   "display_name": "Python 3",
   "language": "python",
   "name": "python3"
  },
  "language_info": {
   "codemirror_mode": {
    "name": "ipython",
    "version": 3
   },
   "file_extension": ".py",
   "mimetype": "text/x-python",
   "name": "python",
   "nbconvert_exporter": "python",
   "pygments_lexer": "ipython3",
   "version": "3.8.3"
  }
 },
 "nbformat": 4,
 "nbformat_minor": 4
}
