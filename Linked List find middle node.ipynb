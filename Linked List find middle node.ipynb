{
 "cells": [
  {
   "cell_type": "code",
   "execution_count": 19,
   "metadata": {},
   "outputs": [
    {
     "name": "stdout",
     "output_type": "stream",
     "text": [
      "5\n",
      "6\n",
      "7\n",
      "middle value using naive method is 6\n",
      "middle value using pointer method is 6\n"
     ]
    }
   ],
   "source": [
    "class Node:\n",
    "    def __init__(self, data):\n",
    "        self.data = data\n",
    "        self.next = None\n",
    "\n",
    "class linkedList:\n",
    "    def __init__(self):\n",
    "        self.head= None\n",
    "        \n",
    "    def insert(self,data):\n",
    "        newData = Node(data)\n",
    "        if self.head is None:\n",
    "            self.head = newData\n",
    "            \n",
    "        else:\n",
    "            value = self.head\n",
    "            while(value.next is not None):\n",
    "                value  = value.next\n",
    "            value.next = newData\n",
    "            newData.next = None\n",
    "            \n",
    "    def traverse(self):\n",
    "        printval = self.head\n",
    "        while printval is not None:\n",
    "            print(printval.data)\n",
    "            printval = printval.next\n",
    "    \n",
    "    def traverse_naive_middle(self):\n",
    "        count = 0\n",
    "        printval = self.head\n",
    "        count+=1\n",
    "        while printval is not None:\n",
    "            count+=1\n",
    "            printval = printval.next\n",
    "        m = int(count/2)\n",
    "        for  i in range(m+1):\n",
    "            printval = self.head.next\n",
    "        print('middle value using naive method is {}'.format(printval.data)) \n",
    "        \n",
    "    def traverse_pointer(self):\n",
    "        value = self.head\n",
    "        pointer1 = value\n",
    "        pointer2 = value\n",
    "        for i in range(1):\n",
    "              #print('step 1')\n",
    "              for j in range(2):\n",
    "                   #print('step 2')  \n",
    "                   pointer2 = pointer2.next\n",
    "              if pointer2 is not None:\n",
    "                   #print('step 3')  \n",
    "                   pointer1 = pointer1.next\n",
    "                   print('middle value using pointer method is {}'.format(pointer1.data))\n",
    "                \n",
    "            \n",
    "if __name__=='__main__':\n",
    "    ll = linkedList()\n",
    "    ll.insert(5)\n",
    "    ll.insert(6)\n",
    "    ll.insert(7)\n",
    "    ll.traverse()\n",
    "    ll.traverse_naive_middle()\n",
    "    ll.traverse_pointer()"
   ]
  },
  {
   "cell_type": "code",
   "execution_count": null,
   "metadata": {},
   "outputs": [],
   "source": [
    "\n",
    "        "
   ]
  },
  {
   "cell_type": "code",
   "execution_count": null,
   "metadata": {},
   "outputs": [],
   "source": []
  }
 ],
 "metadata": {
  "kernelspec": {
   "display_name": "Python 3",
   "language": "python",
   "name": "python3"
  },
  "language_info": {
   "codemirror_mode": {
    "name": "ipython",
    "version": 3
   },
   "file_extension": ".py",
   "mimetype": "text/x-python",
   "name": "python",
   "nbconvert_exporter": "python",
   "pygments_lexer": "ipython3",
   "version": "3.8.3"
  }
 },
 "nbformat": 4,
 "nbformat_minor": 4
}
